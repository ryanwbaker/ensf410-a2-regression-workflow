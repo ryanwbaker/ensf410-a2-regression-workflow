{
 "cells": [
  {
   "cell_type": "markdown",
   "metadata": {},
   "source": [
    "# Lab2 - Concrete compressive strength regression\n",
    "Author: *RYAN BAKER*"
   ]
  },
  {
   "cell_type": "code",
   "execution_count": 36,
   "metadata": {},
   "outputs": [],
   "source": [
    "import numpy as np\n",
    "import pandas as pd\n",
    "import matplotlib.pyplot as plt\n",
    "import seaborn as sns\n",
    "\n"
   ]
  },
  {
   "cell_type": "markdown",
   "metadata": {},
   "source": [
    "## 0. Function definitions\n",
    "\n",
    "To find the best model, we follow the published article where root-mean squared error (rms) was used as a score function. The rms score function needs to be minimized, because the optimal score is 0, larger values are worse performances. \n",
    "\n",
    "In scikit-learn, only *maximization* is implemented. Hence, it is customary to maximize the *negative* rms. scitkit-learn provides a scoring function `neg_root_mean_squared_error`."
   ]
  },
  {
   "cell_type": "code",
   "execution_count": 37,
   "metadata": {},
   "outputs": [],
   "source": [
    "from sklearn.model_selection import cross_validate\n",
    "\n",
    "\n",
    "def get_regressor_neg_rms(model, X, y, cv=7):\n",
    "    '''Calculate train and validation score for regressor (model) using cross-validation\n",
    "        \n",
    "        score is negative root mean-squared error (rms).\n",
    "        \n",
    "        model (sklearn classifier): Regressor to train and evaluate\n",
    "        X (numpy.array or pandas.DataFrame): Feature matrix\n",
    "        y (numpy.array or pandas.Series): Target vector\n",
    "        \n",
    "        returns: mean training negative rms, mean validation negative rms\n",
    "    \n",
    "    '''\n",
    "    \n",
    "    #According to the docstring, the parameter X is the feature matrix and y is the target vector, therefore train_test_split() is required inside this function. \n",
    "    scores = cross_validate(model, X_train, y_train, cv=cv, scoring='neg_mean_squared_error', return_train_score=True)\n",
    "    return (scores['train_score'].mean(), scores['test_score'].mean())"
   ]
  },
  {
   "cell_type": "markdown",
   "metadata": {},
   "source": [
    "## 1. Load data\n",
    "yellowbrick concrete  \n",
    "https://www.scikit-yb.org/en/latest/api/datasets/concrete.html\n",
    "\n",
    "Print the README of the concrete Dataset object. Load the Dataset object by using `return_dataset=True`.\n"
   ]
  },
  {
   "cell_type": "code",
   "execution_count": 38,
   "metadata": {},
   "outputs": [
    {
     "data": {
      "text/plain": [
       "'# Concrete Compressive Strength\\n\\n**Downloaded from the UCI Machine Learning Repository on October 13, 2016.**\\n\\n- Multivariate Data Set\\n- Real Attributes\\n- 1,030 Instances\\n- 9 attributes\\n- Well suited for _regression_ tasks\\n- [https://archive.ics.uci.edu/ml/datasets/Concrete+Compressive+Strength](https://archive.ics.uci.edu/ml/datasets/Concrete+Compressive+Strength)\\n\\n## Abstract\\n\\nConcrete is the most important material in civil engineering. The concrete compressive strength is a highly nonlinear function of age and ingredients.\\n\\n## Description\\n\\nGiven are the variable name, variable type, the measurement unit and a brief description. The concrete compressive strength is the regression problem. The order of this listing corresponds to the order of numerals along the rows of the database.\\n\\n## Attributes\\n\\n- cement (kg)\\n- blast furnace slag (kg)\\n- fly ash (kg)\\n- water (kg)\\n- superplasticizer (kg)\\n- coarse aggregate (kg)\\n- fine aggregate (kg)\\n- age (day)\\n- compressive strength (MPa)\\n\\n## Citation\\n\\nYeh, I-C. \"Modeling of strength of high-performance concrete using artificial neural networks.\" Cement and Concrete research 28.12 (1998): 1797-1808.'"
      ]
     },
     "execution_count": 38,
     "metadata": {},
     "output_type": "execute_result"
    }
   ],
   "source": [
    "#TODO: load the yellowbrick concrete Dataset object and access the README\n",
    "from yellowbrick.datasets import load_concrete\n",
    "\n",
    "data = load_concrete(return_dataset=True)\n",
    "\n",
    "data.README"
   ]
  },
  {
   "cell_type": "markdown",
   "metadata": {},
   "source": [
    "### *Question 1:* What is the target variable name and units in this dataset?"
   ]
  },
  {
   "cell_type": "markdown",
   "metadata": {},
   "source": [
    "*compressive strength (MPa)*\n"
   ]
  },
  {
   "cell_type": "markdown",
   "metadata": {},
   "source": [
    "### 1.1 Prepare the feature matrix and target vector\n",
    "Load the concrete data set into feature matrix `X` and target vector `y`.\n",
    "\n",
    "Print dimensions and type of `X`, `y`."
   ]
  },
  {
   "cell_type": "code",
   "execution_count": 39,
   "metadata": {},
   "outputs": [
    {
     "name": "stdout",
     "output_type": "stream",
     "text": [
      "(1030, 8)\n",
      "(1030,)\n"
     ]
    }
   ],
   "source": [
    "#TODO: Load feature matrix X and target vector y, print shapes\n",
    "X, y = load_concrete()\n",
    "print(X.shape)\n",
    "print(y.shape)\n",
    "\n"
   ]
  },
  {
   "cell_type": "markdown",
   "metadata": {},
   "source": [
    "## 2. Inspect the data "
   ]
  },
  {
   "cell_type": "markdown",
   "metadata": {},
   "source": [
    "### 2.1 Range of each feature\n",
    "To get an idea if the features are on the same scale, we inspect the range of features.\n",
    "\n",
    "Print the minimum and maximum of each feature in `X`."
   ]
  },
  {
   "cell_type": "code",
   "execution_count": 40,
   "metadata": {},
   "outputs": [
    {
     "name": "stdout",
     "output_type": "stream",
     "text": [
      "cement: Min: 102.0 Max: 540.0\n",
      "slag: Min: 0.0 Max: 359.4\n",
      "ash: Min: 0.0 Max: 200.1\n",
      "water: Min: 121.75 Max: 247.0\n",
      "splast: Min: 0.0 Max: 32.2\n",
      "coarse: Min: 801.0 Max: 1145.0\n",
      "fine: Min: 594.0 Max: 992.6\n",
      "age: Min: 1 Max: 365\n"
     ]
    }
   ],
   "source": [
    "# TODO: print range (minimum and maximum) of features\n",
    "for column in X.columns:\n",
    "    print(f'{column}: Min: {X[column].min()} Max: {X[column].max()}')"
   ]
  },
  {
   "cell_type": "markdown",
   "metadata": {},
   "source": [
    "### 2.2 Boxplot of features \n",
    "Using seaborn boxplot, plot all features. This provides a visual view of feature ranges.\n",
    "\n",
    "Add y-axis label indicating units, and a title."
   ]
  },
  {
   "cell_type": "code",
   "execution_count": 41,
   "metadata": {},
   "outputs": [
    {
     "data": {
      "text/plain": [
       "Text(0, 0.5, 'Values')"
      ]
     },
     "execution_count": 41,
     "metadata": {},
     "output_type": "execute_result"
    },
    {
     "data": {
      "image/png": "[encoded data removed]",
      "text/plain": [
       "<Figure size 432x288 with 1 Axes>"
      ]
     },
     "metadata": {
      "needs_background": "light"
     },
     "output_type": "display_data"
    }
   ],
   "source": [
    "#TODO: add boxplot of features\n",
    "bp = sns.boxplot(data=X)\n",
    "bp.set_title(\"Range of Values for Cement Dataset\")\n",
    "bp.set_xlabel(\"Feature\")\n",
    "bp.set_ylabel(\"Values\")"
   ]
  },
  {
   "cell_type": "markdown",
   "metadata": {},
   "source": [
    "### 2.3 Correlation heatmap of features \n",
    "\n",
    "To understand if pairs of features are potentially related, contain similar information, pair-wise cross-correlation can be calculated. Models benefit most from un-correlated features.\n",
    "\n",
    "Using pandas `corr()` method, create the cross-correlations between all features. Plot this cross-correlation object using seaborn `heatmap()` with parameters `vmin=-1, vmax=1, annot=True, cmap='BrBG'`. Add a title.\n",
    "\n",
    "Pandas `corr()` calculates [Pearson correlation ](https://en.wikipedia.org/wiki/Pearson_correlation_coefficient) :\n",
    ">  It has a value between +1 and −1. A value of +1 is total positive linear correlation, 0 is no linear correlation, and −1 is total negative linear correlation."
   ]
  },
  {
   "cell_type": "code",
   "execution_count": 42,
   "metadata": {},
   "outputs": [
    {
     "data": {
      "text/plain": [
       "Text(0.5, 1.0, 'Cross Correlation Heatmap')"
      ]
     },
     "execution_count": 42,
     "metadata": {},
     "output_type": "execute_result"
    },
    {
     "data": {
      "image/png": "[encoded data removed]",
      "text/plain": [
       "<Figure size 432x288 with 2 Axes>"
      ]
     },
     "metadata": {
      "needs_background": "light"
     },
     "output_type": "display_data"
    }
   ],
   "source": [
    "# TODO: add pairwise cross-correlation heatmap of features\n",
    "hm = sns.heatmap(data=X.corr(), vmin=-1, vmax=1, annot=True, cmap='BrBG')\n",
    "hm.set_title(\"Cross Correlation Heatmap\")"
   ]
  },
  {
   "cell_type": "markdown",
   "metadata": {},
   "source": [
    "### 2.4 Histogram of target variable \n",
    "\n",
    "To understand if all target values are equally represented in the data, we analyze how many samples of each target value we have available. The histogram of the target vector can visualize this distribution.\n",
    "\n",
    "Using seaborn `displot()`, plot the histogram of the target vector. Add a title."
   ]
  },
  {
   "cell_type": "code",
   "execution_count": 43,
   "metadata": {},
   "outputs": [
    {
     "data": {
      "text/plain": [
       "Text(0.5, 0.98, 'Number of Samples of Each Target Value')"
      ]
     },
     "execution_count": 43,
     "metadata": {},
     "output_type": "execute_result"
    },
    {
     "data": {
      "image/png": "[encoded data removed]",
      "text/plain": [
       "<Figure size 360x360 with 1 Axes>"
      ]
     },
     "metadata": {
      "needs_background": "light"
     },
     "output_type": "display_data"
    }
   ],
   "source": [
    "#TODO: Add histogram of targect vector\n",
    "hist = sns.displot(data=y)\n",
    "hist.fig.suptitle(\"Number of Samples of Each Target Value\")"
   ]
  },
  {
   "cell_type": "markdown",
   "metadata": {},
   "source": [
    "## 3. Create training and test sets\n",
    "\n",
    "Using scikit-learn `train_test_split()` with parameters `random_state=37`, `test_size=0.2`, split `X` and `y` into training and test sets."
   ]
  },
  {
   "cell_type": "code",
   "execution_count": 44,
   "metadata": {},
   "outputs": [],
   "source": [
    "# TODO: train-test split\n",
    "from sklearn.model_selection import train_test_split\n",
    "X_train, X_test, y_train, y_test = train_test_split(X, y, random_state=37, test_size=0.2)"
   ]
  },
  {
   "cell_type": "markdown",
   "metadata": {},
   "source": [
    "## 4. Compare models using cross-validation\n",
    "\n",
    "Create a list containing a `LinearRegression()`, `RandomForestRegressor(random_state=64)` and `GradientBoostingRegressor(random_state=79)` objects.\n",
    "\n",
    "Iterate this list, compute the negative root mean-squared error using the `get_regressor_neg_rms()` function, and print the training and validation scores with **2 decimal places**. Use 7-fold cross-validation."
   ]
  },
  {
   "cell_type": "code",
   "execution_count": 45,
   "metadata": {},
   "outputs": [
    {
     "name": "stdout",
     "output_type": "stream",
     "text": [
      "Model: LinearRegression(), Training Score: -105.89, Validation Score: -108.23\n",
      "Model: RandomForestRegressor(random_state=64), Training Score: -4.50, Validation Score: -25.19\n",
      "Model: GradientBoostingRegressor(random_state=79), Training Score: -13.63, Validation Score: -25.02\n"
     ]
    }
   ],
   "source": [
    "#TODO: Calling get_regressor_neg_rms() for each model\n",
    "from sklearn.linear_model import LinearRegression\n",
    "from sklearn.ensemble import RandomForestRegressor\n",
    "from sklearn.ensemble import GradientBoostingRegressor\n",
    "models = [LinearRegression(), RandomForestRegressor(random_state=64), GradientBoostingRegressor(random_state=79)]\n",
    "\n",
    "for model in models:\n",
    "    scores = get_regressor_neg_rms(model, X, y, cv=7)\n",
    "    print(f'Model: {model}, Training Score: {scores[0]:0.2f}, Validation Score: {scores[1]:0.2f}')\n"
   ]
  },
  {
   "cell_type": "markdown",
   "metadata": {},
   "source": [
    "### *Question 2:* For each of the three models, state if models are potentially over- or underfitting and why."
   ]
  },
  {
   "cell_type": "markdown",
   "metadata": {},
   "source": [
    "*LinearRegression() training score and validation score are very close; it is hard to say if this is underfitting or if the validation score is maximized. RandomForestRegressor() and GradientBoostingRegressor() are likely underfitting, because the magnitudes of the validation scores are higher than the magnitudes of the training scores. This implies that the test data is performing worse than the training data, so the model has high bias.*  \n",
    "\n"
   ]
  },
  {
   "cell_type": "markdown",
   "metadata": {},
   "source": [
    "## 5. Find a better model\n",
    "\n",
    "Use the `RandomForestRegressor(random_state=64)` and find the best combination of `max_depth` from the list of `[10, 15, 20]`, and `n_estimators` from the list of `[50, 100, 150]`.\n",
    "\n",
    "Use nested for-loops to iterate these two lists, compute the negative root mean-squared error of the corresponding `RandomForestRegressor(random_state=64)` using the `get_regressor_neg_rms()` function, and print the training and validation scores with **2 decimal places**. Use 7-fold cross-validation."
   ]
  },
  {
   "cell_type": "code",
   "execution_count": 46,
   "metadata": {},
   "outputs": [
    {
     "name": "stdout",
     "output_type": "stream",
     "text": [
      "max_depth: 10, n_estimators: 50, Training Score: -6.17, Validation Score: -26.92\n",
      "max_depth: 10, n_estimators: 100, Training Score: -5.96, Validation Score: -26.44\n",
      "max_depth: 10, n_estimators: 150, Training Score: -5.85, Validation Score: -26.13\n",
      "max_depth: 15, n_estimators: 50, Training Score: -4.71, Validation Score: -25.71\n",
      "max_depth: 15, n_estimators: 100, Training Score: -4.52, Validation Score: -25.19\n",
      "max_depth: 15, n_estimators: 150, Training Score: -4.43, Validation Score: -24.87\n",
      "max_depth: 20, n_estimators: 50, Training Score: -4.70, Validation Score: -25.74\n",
      "max_depth: 20, n_estimators: 100, Training Score: -4.50, Validation Score: -25.21\n",
      "max_depth: 20, n_estimators: 150, Training Score: -4.41, Validation Score: -24.82\n"
     ]
    }
   ],
   "source": [
    "#TODO: Calling get_regressor_neg_rms() for each parameter pair\n",
    "depths = [10, 15, 20]\n",
    "estimators = [50, 100, 150]\n",
    "for depth in depths:\n",
    "    for n in estimators:\n",
    "        scores = get_regressor_neg_rms(RandomForestRegressor(random_state=64, max_depth=depth, n_estimators=n), X, y, cv=7)\n",
    "        print(f'max_depth: {depth}, n_estimators: {n}, Training Score: {scores[0]:0.2f}, Validation Score: {scores[1]:0.2f}')\n"
   ]
  },
  {
   "cell_type": "markdown",
   "metadata": {},
   "source": [
    "### *Question 3:* Which combination of `max_depth` and `n_estimators` produced the best validation score? Report this score here."
   ]
  },
  {
   "cell_type": "markdown",
   "metadata": {},
   "source": [
    "*All scores were very close, but the combination of max_depth=20 and n_estimators=150 produced the best validation score with a magnitude of 24.82.*\n",
    "\n"
   ]
  },
  {
   "cell_type": "markdown",
   "metadata": {},
   "source": [
    "## 6. Retrain best model\n",
    "\n",
    "Create a `RandomForestRegressor(random_state=64)` with the best pair of `max_depth` and `n_estimators`, and retrain this model on all training data."
   ]
  },
  {
   "cell_type": "code",
   "execution_count": 47,
   "metadata": {},
   "outputs": [],
   "source": [
    "#TODO: retrain the best estimator\n",
    "rfr = RandomForestRegressor(random_state=64, max_depth=20, n_estimators=150)\n",
    "rfr.fit(X_train,y_train)\n",
    "y_pred = rfr.predict(X_test)\n",
    "y_pred_train = rfr.predict(X_train)\n"
   ]
  },
  {
   "cell_type": "markdown",
   "metadata": {},
   "source": []
  },
  {
   "cell_type": "markdown",
   "metadata": {},
   "source": [
    "## 7. Evaluate best model on training and test data\n",
    "### 7.1 Root mean-squared error and R-squared\n",
    "\n",
    "For the retrained best estimator, print the root mean-squared error (**2 decimal places**) and R-squared (**3 decimal places**) for training and test sets."
   ]
  },
  {
   "cell_type": "code",
   "execution_count": 48,
   "metadata": {},
   "outputs": [
    {
     "name": "stdout",
     "output_type": "stream",
     "text": [
      "Train MSE: 4.01\n",
      "Train R2: 0.986\n",
      "Test MSE: 23.71\n",
      "Test R2: 0.913\n"
     ]
    }
   ],
   "source": [
    "# TODO: print rms and r-squared for training and test set\n",
    "from sklearn.metrics import mean_squared_error\n",
    "from sklearn.metrics import r2_score\n",
    "print(f'Train MSE: {mean_squared_error(y_train, y_pred_train):0.2f}')\n",
    "print(f'Train R2: {r2_score(y_train, y_pred_train):0.3f}')\n",
    "print(f'Test MSE: {mean_squared_error(y_test, y_pred):0.2f}')\n",
    "print(f'Test R2: {r2_score(y_test, y_pred):0.3f}')\n",
    "\n",
    "\n"
   ]
  },
  {
   "cell_type": "markdown",
   "metadata": {},
   "source": [
    "### *Question 4:* How does this test score compare to the polynomial regression and neural network reported in the article? Do we outperform the reported models?"
   ]
  },
  {
   "cell_type": "markdown",
   "metadata": {},
   "source": [
    "* The lab's random forest regressor algorithm was reported to be [*RMSE=4.01 MPa, R2=0.986*] for training, and [*RMSE=23.71 MPa, R2=0.913*] for testing.\n",
    "* The lab's algorithm had a [*RMSE var = 0.05 MPa worse, R2 var = 0.096 better*] difference for training and a [*RMSE var = 14.89 MPa worse, R2 var = 0.122 better*] difference for testing data when compared with the article's regression training ([*RMSE=3.96 MPa, R2=0.89*] training, [*RMSE=8.82 MPa, R2=0.791] testing*). \n",
    "* The lab's algorithm did [*RMSE var = 1.00 MPa worse, R2 var = 0.046 better*] for training and [*RMSE var = 19.39 MPa worse, R2 var = 0.016 worse*] for testing in comparison with the article's neural network testing ([*RMSE=3.01 MPa, R2=0.94*]  training, and [*RMSE=4.32 MPa, R2=0.929*] testing). \n",
    "* In general, a lower RMSE values and R2 values closer to 1 are desirable.* \n",
    "\n"
   ]
  },
  {
   "cell_type": "markdown",
   "metadata": {},
   "source": [
    "### 7.2 Predicted vs actual strength plot\n",
    "Using a scatterplot, show predicted strength on the x axis and actual strength on the y axis with data from the test set. With this plot, we can see where we make errors.\n",
    "\n",
    "Add a line of unity (diagonal with slope 1 and offset 0). Ideally, all points would be on this line. We look for points being distributed equally around the line of unity.\n",
    "\n",
    "Add x-axis, y-axis labels including units, and a title.\n"
   ]
  },
  {
   "cell_type": "code",
   "execution_count": 58,
   "metadata": {},
   "outputs": [
    {
     "data": {
      "text/plain": [
       "[<matplotlib.lines.Line2D at 0x18e1ba9db20>]"
      ]
     },
     "execution_count": 58,
     "metadata": {},
     "output_type": "execute_result"
    },
    {
     "data": {
      "image/png": "[encoded data removed]",
      "text/plain": [
       "<Figure size 432x288 with 1 Axes>"
      ]
     },
     "metadata": {
      "needs_background": "light"
     },
     "output_type": "display_data"
    }
   ],
   "source": [
    "#TODO: predicted-actual plot\n",
    "\n",
    "splot = sns.scatterplot(x=y_pred, y=y_test)\n",
    "splot.plot([0,85], [0,85])\n",
    "\n"
   ]
  },
  {
   "cell_type": "markdown",
   "metadata": {},
   "source": [
    "### 7.3 Residual plot\n",
    "Using a scatterplot, show predicted strength on the x axis and the *difference* between actual and predicted strength on the y axis with data from the test set. This is an alternative way to see where errors are made.\n",
    "\n",
    "We look for residuals being distributed equally around the zero horizontal line.\n",
    "\n",
    "Add x-axis, y-axis labels including units, and a title.\n",
    "\n"
   ]
  },
  {
   "cell_type": "code",
   "execution_count": 64,
   "metadata": {},
   "outputs": [
    {
     "data": {
      "text/plain": [
       "Text(0, 0.5, '(Actual Strength - Predicted Strength)')"
      ]
     },
     "execution_count": 64,
     "metadata": {},
     "output_type": "execute_result"
    },
    {
     "data": {
      "image/png": "[encoded data removed]",
      "text/plain": [
       "<Figure size 432x288 with 1 Axes>"
      ]
     },
     "metadata": {
      "needs_background": "light"
     },
     "output_type": "display_data"
    }
   ],
   "source": [
    "# TODO: Residual plot\n",
    "splot2 = sns.scatterplot(x=y_pred, y=(y_test-y_pred))\n",
    "splot2.set_title(\"Residual Plot of (Actual Strength - Predicted Strength) vs. Predicted Strength\")\n",
    "splot2.set_xlabel(\"Predicted Strength\")\n",
    "splot2.set_ylabel(\"(Actual Strength - Predicted Strength)\")"
   ]
  },
  {
   "cell_type": "markdown",
   "metadata": {},
   "source": [
    "## 8. Conclusion\n",
    "\n",
    "In conclusion, comment on the following items:\n",
    "- Did we find a model that outperformes the polynomial regression reported in the reference article? Explain.\n",
    "- Did we find a model that outperformes the neural network reported in the reference article? Explain.\n",
    "- What was the assumption about the dataset and the reference article? How does this affect your conclusions?\n"
   ]
  },
  {
   "cell_type": "markdown",
   "metadata": {},
   "source": [
    "* *The model in the lab performed worse for training scores and testing scores (RMSE) than the polynomial regression model reported in the article. The lab's model did achieve better R2 scores however, which may indicate that the lab model is too complex.*\n",
    "* *The model in the lab performed worse for training and testing scores (RMSE) than the neural network model reported in the article. The lab's model did achieve a slightly better R2 training score but a worse R2 testing score. This may indicate that the lab's model is not complex enough.*\n",
    "* *The assumption about the dataset is that there is not a perfect correlation or model to fit this real world data. In conclusion, the lab model may be more useful in certain scenarios than the reported polynomial regression or neural network models from the article, and there may be other scenarios where each of the reported models are better suited to the task.*\n"
   ]
  },
  {
   "cell_type": "markdown",
   "metadata": {},
   "source": [
    "## 9. Reflection\n",
    "\n"
   ]
  },
  {
   "cell_type": "markdown",
   "metadata": {},
   "source": [
    "Include a sentence or two about:\n",
    "- what you liked or disliked,\n",
    "- found interesting, confusing, challangeing, motivating while working on this assignment.\n",
    "\n",
    "- *I enjoyed learning more about scikit learn in general, working with dataframes, and how each part of the lab used data visualization to help bring understanding to what was being done.*\n",
    "- *I disliked trying to get the line of best fit on the seabord scatterplot, for some reason it was a struggle. Luckily, the office hours provided were able to get me by with Farid's help! Thank you again Farid!*"
   ]
  },
  {
   "cell_type": "markdown",
   "metadata": {},
   "source": [
    "# Appendix: Optional - use grid search to find the best model parameters."
   ]
  },
  {
   "cell_type": "markdown",
   "metadata": {},
   "source": [
    "## Workflow overview"
   ]
  },
  {
   "cell_type": "code",
   "execution_count": null,
   "metadata": {},
   "outputs": [],
   "source": [
    "import mglearn\n",
    "mglearn.plots.plot_grid_search_overview()"
   ]
  },
  {
   "cell_type": "markdown",
   "metadata": {},
   "source": [
    "## A-1. Hyperparameter tuning using grid search \n",
    "\n",
    "The inital cross-validation above showed that both DecisionTree based models might have merit. Next, the hyperparameters are tuned using grid search."
   ]
  },
  {
   "cell_type": "markdown",
   "metadata": {},
   "source": [
    "### A-1.1 Grid search for RandomForestRegressor\n",
    "\n",
    "Perform grid search using `GridSearchCV` for the `RandomForestRegressor(random_state=64)`.\n",
    "\n",
    "Grid search to use 7-fold cross-validation, and `neg_root_mean_squared_error` as the scoring function.\n",
    "\n",
    "Use the following hyperparameters and values:\n",
    "- `'n_estimators': [100, 200, 500]`\n",
    "- `'max_depth': [ 11, 13, 15, 17]`\n",
    "- `'max_features': ['auto', 'log2', None]`\n"
   ]
  },
  {
   "cell_type": "code",
   "execution_count": null,
   "metadata": {},
   "outputs": [],
   "source": [
    "# TODO: Setup grid search for RandomForestRegressor(random_state=64)\n"
   ]
  },
  {
   "cell_type": "code",
   "execution_count": null,
   "metadata": {},
   "outputs": [],
   "source": [
    "# TODO: perform the grid search by calling fit()\n"
   ]
  },
  {
   "cell_type": "code",
   "execution_count": null,
   "metadata": {},
   "outputs": [],
   "source": [
    "# TODO: Print the best parameters\n"
   ]
  },
  {
   "cell_type": "code",
   "execution_count": null,
   "metadata": {},
   "outputs": [],
   "source": [
    "# TODO: Print the best score\n"
   ]
  },
  {
   "cell_type": "markdown",
   "metadata": {},
   "source": [
    "### A-5.2 Grid search for gradient boosted tree\n",
    "\n",
    "Perform grid search using `GridSearchCV` for the `GradientBoostingRegressor(random_state=79)`.\n",
    "\n",
    "Grid search to use 7-fold cross-validation, and `neg_root_mean_squared_error` as the scoring function.\n",
    "\n",
    "Use the following hyperparameters and values:\n",
    "- `'n_estimators': [100, 200, 500]`\n",
    "- `'max_depth': [1, 3, 5, 7]`\n",
    "- `'learning_rate': [0.01, 0.1, 1.0]`"
   ]
  },
  {
   "cell_type": "code",
   "execution_count": null,
   "metadata": {},
   "outputs": [],
   "source": [
    "# TODO: Setup grid search for GradientBoostingRegressor(random_state=79)\n"
   ]
  },
  {
   "cell_type": "code",
   "execution_count": null,
   "metadata": {},
   "outputs": [],
   "source": [
    "# TODO: perform the grid search by calling fit()\n"
   ]
  },
  {
   "cell_type": "code",
   "execution_count": null,
   "metadata": {},
   "outputs": [],
   "source": [
    "# TODO: Print the best parameters\n"
   ]
  },
  {
   "cell_type": "code",
   "execution_count": null,
   "metadata": {},
   "outputs": [],
   "source": [
    "# TODO: Print the best score\n"
   ]
  },
  {
   "cell_type": "markdown",
   "metadata": {},
   "source": [
    "### *Question A-1:* Which of the two models produces the best score? What is the best score?"
   ]
  },
  {
   "cell_type": "markdown",
   "metadata": {},
   "source": [
    "*YOUR ANSWER HERE*\n"
   ]
  },
  {
   "cell_type": "markdown",
   "metadata": {},
   "source": [
    "## A-2. Retrain best model\n",
    "\n",
    "Get the best estimator from the two grid searches above and retrain this model on all training data."
   ]
  },
  {
   "cell_type": "code",
   "execution_count": null,
   "metadata": {},
   "outputs": [],
   "source": [
    "#TODO: retrain the best estimator\n",
    "\n"
   ]
  },
  {
   "cell_type": "markdown",
   "metadata": {},
   "source": [
    "## A-3. Model evaluation and conclusion\n",
    "\n",
    "Repeat steps in Section 7 above for the best model.\n",
    "\n",
    "Revisit your conclusion."
   ]
  },
  {
   "cell_type": "code",
   "execution_count": null,
   "metadata": {},
   "outputs": [],
   "source": []
  }
 ],
 "metadata": {
  "interpreter": {
   "hash": "f6f02e9f85b690ba3605e25e2207de0a0cdb14a188c0224e174543eb34a40aa5"
  },
  "kernelspec": {
   "display_name": "Python 3.8.8 64-bit ('ensf-ml': conda)",
   "name": "python3"
  },
  "language_info": {
   "codemirror_mode": {
    "name": "ipython",
    "version": 3
   },
   "file_extension": ".py",
   "mimetype": "text/x-python",
   "name": "python",
   "nbconvert_exporter": "python",
   "pygments_lexer": "ipython3",
   "version": "3.8.8"
  }
 },
 "nbformat": 4,
 "nbformat_minor": 4
}
